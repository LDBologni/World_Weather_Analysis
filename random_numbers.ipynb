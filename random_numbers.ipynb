{
 "cells": [
  {
   "cell_type": "code",
   "execution_count": 17,
   "id": "cae64af5",
   "metadata": {},
   "outputs": [],
   "source": [
    "# Import the random module.\n",
    "import random\n",
    "import numpy as np\n",
    "import timeit\n",
    "import pandas as pd\n",
    "import matplotlib.pyplot as plt"
   ]
  },
  {
   "cell_type": "code",
   "execution_count": 2,
   "id": "d3b2066c",
   "metadata": {},
   "outputs": [
    {
     "data": {
      "text/plain": [
       "-72"
      ]
     },
     "execution_count": 2,
     "metadata": {},
     "output_type": "execute_result"
    }
   ],
   "source": [
    "# Random randit function\n",
    "random.randint(-90,90)"
   ]
  },
  {
   "cell_type": "code",
   "execution_count": 3,
   "id": "7e991c94",
   "metadata": {},
   "outputs": [
    {
     "data": {
      "text/plain": [
       "0.24909679898116133"
      ]
     },
     "execution_count": 3,
     "metadata": {},
     "output_type": "execute_result"
    }
   ],
   "source": [
    "# Ramdon random function\n",
    "random.random()"
   ]
  },
  {
   "cell_type": "code",
   "execution_count": 4,
   "id": "ac4b715c",
   "metadata": {},
   "outputs": [
    {
     "data": {
      "text/plain": [
       "21.40695792962867"
      ]
     },
     "execution_count": 4,
     "metadata": {},
     "output_type": "execute_result"
    }
   ],
   "source": [
    "# Testing random numbers\n",
    "random_numbers = random.random() + random.randint(-89,90)\n",
    "\n",
    "random_numbers"
   ]
  },
  {
   "cell_type": "code",
   "execution_count": 5,
   "id": "0f7be693",
   "metadata": {},
   "outputs": [
    {
     "data": {
      "text/plain": [
       "[3.470901596700722,\n",
       " 87.30471693426476,\n",
       " -70.09039886413578,\n",
       " 14.709929870433012,\n",
       " 19.13962047551787,\n",
       " 16.279401844374636,\n",
       " 29.592627025675515,\n",
       " 26.392562177496885,\n",
       " 24.445304238176703,\n",
       " -32.61998288420795]"
      ]
     },
     "execution_count": 5,
     "metadata": {},
     "output_type": "execute_result"
    }
   ],
   "source": [
    "# Generating random Latitudes\n",
    "x = 1\n",
    "latitudes = []\n",
    "while x < 11:\n",
    "    random_lat = random.randint(-90, 89) + random.random()\n",
    "    latitudes.append(random_lat)\n",
    "    x += 1\n",
    "\n",
    "latitudes"
   ]
  },
  {
   "cell_type": "code",
   "execution_count": 6,
   "id": "527ded19",
   "metadata": {},
   "outputs": [
    {
     "data": {
      "text/plain": [
       "20"
      ]
     },
     "execution_count": 6,
     "metadata": {},
     "output_type": "execute_result"
    }
   ],
   "source": [
    "# Random randrange function\n",
    "random.randrange(-90,90, step = 1)"
   ]
  },
  {
   "cell_type": "code",
   "execution_count": 7,
   "id": "1edaa85e",
   "metadata": {},
   "outputs": [
    {
     "data": {
      "text/plain": [
       "51"
      ]
     },
     "execution_count": 7,
     "metadata": {},
     "output_type": "execute_result"
    }
   ],
   "source": [
    "# Random randrange function\n",
    "random.randrange(-90,90, step = 3)"
   ]
  },
  {
   "cell_type": "code",
   "execution_count": 8,
   "id": "9d81ad5e",
   "metadata": {},
   "outputs": [
    {
     "data": {
      "text/plain": [
       "-15.451947912098603"
      ]
     },
     "execution_count": 8,
     "metadata": {},
     "output_type": "execute_result"
    }
   ],
   "source": [
    "# Random uniform function\n",
    "random.uniform(-90,90)"
   ]
  },
  {
   "cell_type": "code",
   "execution_count": 9,
   "id": "92e064cb",
   "metadata": {},
   "outputs": [
    {
     "data": {
      "text/plain": [
       "22.22068886746783"
      ]
     },
     "execution_count": 9,
     "metadata": {},
     "output_type": "execute_result"
    }
   ],
   "source": [
    "# Random numpy function\n",
    "np.random.uniform(-90.000,90.000)"
   ]
  },
  {
   "cell_type": "code",
   "execution_count": 13,
   "id": "f76f5f8b",
   "metadata": {},
   "outputs": [
    {
     "data": {
      "text/plain": [
       "array([-17.98346221, -78.48342875, -30.96404567,  -3.82522506,\n",
       "        19.18396772,   9.34606877, -25.57604281,   7.17988488,\n",
       "        88.5913344 , -16.24817573,   2.58247305,  44.88056621,\n",
       "       -75.39935336,  73.20982136,  86.18690525, -35.61229594,\n",
       "        65.89645899,  69.1816592 , -29.63779048, -44.4106539 ,\n",
       "        40.62152637,  45.40187522, -21.36324605, -28.68697913,\n",
       "        -4.16434104,  84.74915639, -14.07367511, -72.40660378,\n",
       "       -42.18570581,  48.16509872,  88.68179097,  -9.84353367,\n",
       "       -37.22794732,  35.68773333, -25.42596789,  76.77594395,\n",
       "        -6.86346637, -73.68223328, -88.75846215, -83.15662381,\n",
       "         0.80295568, -62.14400674, -10.81559471,  59.83056868,\n",
       "       -26.45355938,  87.06974055,  24.00421477,  -4.44734134,\n",
       "        59.5427979 ,  54.70045881])"
      ]
     },
     "execution_count": 13,
     "metadata": {},
     "output_type": "execute_result"
    }
   ],
   "source": [
    "# Random numpy function\n",
    "np.random.uniform(-90.000,90.000, size = 50)"
   ]
  },
  {
   "cell_type": "code",
   "execution_count": 15,
   "id": "7a862d4f",
   "metadata": {},
   "outputs": [
    {
     "name": "stdout",
     "output_type": "stream",
     "text": [
      "11.6 µs ± 508 ns per loop (mean ± std. dev. of 7 runs, 100000 loops each)\n"
     ]
    }
   ],
   "source": [
    "# Using timeit in function\n",
    "%timeit np.random.uniform(-90.000, 90.000, size=1500)"
   ]
  },
  {
   "cell_type": "code",
   "execution_count": 16,
   "id": "feb0c839",
   "metadata": {},
   "outputs": [
    {
     "name": "stdout",
     "output_type": "stream",
     "text": [
      "1.35 ms ± 45.5 µs per loop (mean ± std. dev. of 7 runs, 1000 loops each)\n"
     ]
    }
   ],
   "source": [
    "# While loop function\n",
    "def latitudes(size):\n",
    "    latitudes = []\n",
    "    x = 0\n",
    "    while x < (size):\n",
    "        random_lat = random.randint(-90, 90) + random.random()\n",
    "        latitudes.append(random_lat)\n",
    "        x += 1\n",
    "    return latitudes\n",
    "\n",
    "# Call the function with 1500.\n",
    "%timeit latitudes(1500)"
   ]
  },
  {
   "cell_type": "code",
   "execution_count": 18,
   "id": "e147337d",
   "metadata": {},
   "outputs": [
    {
     "data": {
      "text/plain": [
       "<zip at 0x164dd3749c8>"
      ]
     },
     "execution_count": 18,
     "metadata": {},
     "output_type": "execute_result"
    }
   ],
   "source": [
    "# Create a set of random latitude and longitude combinations.\n",
    "lats = np.random.uniform(low=-90.000, high=90.000, size=1500)\n",
    "lngs = np.random.uniform(low=-180.000, high=180.000, size=1500)\n",
    "lat_lngs = zip(lats, lngs)\n",
    "lat_lngs"
   ]
  }
 ],
 "metadata": {
  "kernelspec": {
   "display_name": "PythonData",
   "language": "python",
   "name": "pythondata"
  },
  "language_info": {
   "codemirror_mode": {
    "name": "ipython",
    "version": 3
   },
   "file_extension": ".py",
   "mimetype": "text/x-python",
   "name": "python",
   "nbconvert_exporter": "python",
   "pygments_lexer": "ipython3",
   "version": "3.7.11"
  }
 },
 "nbformat": 4,
 "nbformat_minor": 5
}
